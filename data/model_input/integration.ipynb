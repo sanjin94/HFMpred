{
 "cells": [
  {
   "cell_type": "code",
   "execution_count": 15,
   "metadata": {},
   "outputs": [],
   "source": [
    "import numpy as np\n",
    "import pandas as pd"
   ]
  },
  {
   "cell_type": "code",
   "execution_count": 16,
   "metadata": {},
   "outputs": [
    {
     "name": "stdout",
     "output_type": "stream",
     "text": [
      "beton_ljeto2.csv      eps_ljeto.csv\t\tlenti.csv\n",
      "beton_ljeto.csv       eps_prijelazno.csv\tmuraszemenye.csv\n",
      "beton_prijelazno.csv  eps_zima.csv\t\tmursko_sredisce.csv\n",
      "beton_zima.csv\t      integration.ipynb\t\tnagykanizsa_indoor.csv\n",
      "d123.csv\t      ivanovec.csv\t\tpalovec.csv\n",
      "d137b.csv\t      izolacija_ljeto.csv\ttornyszentmiklos.csv\n",
      "d205_wdw.csv\t      izolacija_prijelazno.csv\ttotovec.csv\n",
      "d210_wdw.csv\t      izolacija_zima.csv\tvaspor.csv\n",
      "dlab.csv\t      kotoriba.csv\t\tvectors_zg.csv\n"
     ]
    }
   ],
   "source": [
    "!ls"
   ]
  },
  {
   "cell_type": "code",
   "execution_count": 80,
   "metadata": {},
   "outputs": [],
   "source": [
    "name = 'izolacija_prijelazno.csv'\n",
    "source = '../raw/last.dat'\n"
   ]
  },
  {
   "cell_type": "code",
   "execution_count": 81,
   "metadata": {},
   "outputs": [
    {
     "name": "stderr",
     "output_type": "stream",
     "text": [
      "/home/sanjin94/.local/lib/python3.8/site-packages/IPython/core/interactiveshell.py:3441: DtypeWarning: Columns (6,7,12,13) have mixed types.Specify dtype option on import or set low_memory=False.\n",
      "  exec(code_obj, self.user_global_ns, self.user_ns)\n"
     ]
    }
   ],
   "source": [
    "q = pd.read_csv('./' + name, usecols=['v2']).to_numpy().flatten()\n",
    "df = pd.read_csv('./' + source, skiprows=1,\n",
    "                 usecols=['T11', 'T21', 'DT1temp', 'DT2temp', 'HF1', 'HF2', 'TIMESTAMP']).tail(-2)\n",
    "df2 = pd.read_csv('./' + source, skiprows=1,\n",
    "                  usecols=['T11', 'T21', 'DT1temp', 'DT2temp', 'HF1', 'HF2']).tail(-2)"
   ]
  },
  {
   "cell_type": "code",
   "execution_count": 82,
   "metadata": {},
   "outputs": [],
   "source": [
    "m1 = df2['HF1'] == -q[0]\n",
    "m2 = df2['HF1'] == -q[1]\n",
    "m3 = df2['HF1'] == -q[2]\n",
    "\n",
    "l1 = df[m1].index.values\n",
    "l2 = df[m2].index.values\n",
    "l3 = df[m3].index.values\n",
    "\n",
    "for i in range(len(l1)):\n",
    "    t1 = l1[i]\n",
    "    for j in range(len(l2)):\n",
    "        t2 = l2[j]\n",
    "        if (t2 - t1) == 1:\n",
    "            for k in range(len(l3)):\n",
    "                if (l3[k] - t2) == 1:\n",
    "                    first = l1[i]"
   ]
  },
  {
   "cell_type": "code",
   "execution_count": 83,
   "metadata": {},
   "outputs": [
    {
     "name": "stdout",
     "output_type": "stream",
     "text": [
      "ivanovec_tv32_b512_nl8_pd5_l2l5_0.png\n",
      "ivanovec_tv32_b512_nl8_pd5_l2l5_1.png\n",
      "ivanovec_tv32_b512_nl8_pd5_l2l5_2__ponovi__.png\n",
      "ivanovec_tv32_b512_nl8_pd5_l2l5_3__ponovi__.png\n",
      "kotoriba_tv27_b512_nl8_pd5_l2l05_0.png\n",
      "kotoriba_tv27_b512_nl8_pd5_l2l05_1.png\n",
      "kotoriba_tv27_b512_nl8_pd5_l2l05_2.png\n",
      "kotoriba_tv27_b512_nl8_pd5_l2l05_3.png\n",
      "lenti_tv31_b512_nl8_pd5_l2l1_0.png\n",
      "lenti_tv31_b512_nl8_pd5_l2l1_1.png\n",
      "lenti_tv31_b512_nl8_pd5_l2l1_2___ponovi___.png\n",
      "lenti_tv31_b512_nl8_pd5_l2l1_3___ponovi___.png\n",
      "muraszemenye_tv43_b512_nl4_pd5_l2l1_0.png\n",
      "muraszemenye_tv43_b512_nl4_pd5_l2l1_1.png\n",
      "muraszemenye_tv43_b512_nl4_pd5_l2l1_2.png\n",
      "muraszemenye_tv43_b512_nl4_pd5_l2l1_3.png\n",
      "mursko_sredisce_tv36_b512_nl4_pd5_l2l1_0.png\n",
      "mursko_sredisce_tv36_b512_nl4_pd5_l2l1_1.png\n",
      "mursko_sredisce_tv36_b512_nl4_pd5_l2l1_2.png\n",
      "mursko_sredisce_tv36_b512_nl4_pd5_l2l1_3.png\n",
      "palovec_tv23_b1024_nl4_pd5_l2l008_0.png\n",
      "palovec_tv23_b1024_nl4_pd5_l2l008_1.png\n",
      "palovec_tv23_b1024_nl4_pd5_l2l008_2.png\n",
      "palovec_tv23_b1024_nl4_pd5_l2l008_3.png\n",
      "tornyszentmiklos_tv53_b256_nl4_pd5_l2l2_0.png\n",
      "tornyszentmiklos_tv53_b256_nl4_pd5_l2l2_1.png\n",
      "tornyszentmiklos_tv53_b256_nl4_pd5_l2l2_2.png\n",
      "tornyszentmiklos_tv53_b256_nl4_pd5_l2l2_3.png\n",
      "vaspor_tv44_b1024_nl8_pd5_l2l2_0.png\n",
      "vaspor_tv44_b1024_nl8_pd5_l2l2_1.png\n",
      "vaspor_tv44_b1024_nl8_pd5_l2l2_2.png\n",
      "vaspor_tv44_b1024_nl8_pd5_l2l2_3.png\n"
     ]
    }
   ],
   "source": [
    "res_PATH = '../../../Doktorat/PhD-thesis/fig/rsite'\n",
    "!ls $res_PATH"
   ]
  },
  {
   "cell_type": "code",
   "execution_count": 84,
   "metadata": {},
   "outputs": [],
   "source": [
    "#q_name = 'ivanovec_tv32_b512_nl8_pd5_l2l5'\n",
    "#q_PATH = '../../results/q_pred/'\n",
    "#q_pred = pd.read_csv(q_PATH + q_name + '.csv').to_numpy().flatten()\n",
    "q_pred = pd.read_csv('../../results/q_pred/' + name).to_numpy().flatten()\n"
   ]
  },
  {
   "cell_type": "code",
   "execution_count": 85,
   "metadata": {},
   "outputs": [
    {
     "name": "stderr",
     "output_type": "stream",
     "text": [
      "/home/sanjin94/.local/lib/python3.8/site-packages/pandas/core/frame.py:3607: SettingWithCopyWarning: \n",
      "A value is trying to be set on a copy of a slice from a DataFrame.\n",
      "Try using .loc[row_indexer,col_indexer] = value instead\n",
      "\n",
      "See the caveats in the documentation: https://pandas.pydata.org/pandas-docs/stable/user_guide/indexing.html#returning-a-view-versus-a-copy\n",
      "  self._set_item(key, value)\n"
     ]
    },
    {
     "data": {
      "text/html": [
       "<div>\n",
       "<style scoped>\n",
       "    .dataframe tbody tr th:only-of-type {\n",
       "        vertical-align: middle;\n",
       "    }\n",
       "\n",
       "    .dataframe tbody tr th {\n",
       "        vertical-align: top;\n",
       "    }\n",
       "\n",
       "    .dataframe thead th {\n",
       "        text-align: right;\n",
       "    }\n",
       "</style>\n",
       "<table border=\"1\" class=\"dataframe\">\n",
       "  <thead>\n",
       "    <tr style=\"text-align: right;\">\n",
       "      <th></th>\n",
       "      <th>TIMESTAMP</th>\n",
       "      <th>T11</th>\n",
       "      <th>T21</th>\n",
       "      <th>DT1temp</th>\n",
       "      <th>DT2temp</th>\n",
       "      <th>HF1</th>\n",
       "      <th>HF2</th>\n",
       "    </tr>\n",
       "  </thead>\n",
       "  <tbody>\n",
       "    <tr>\n",
       "      <th>172731</th>\n",
       "      <td>2021-12-26 17:02:00.38</td>\n",
       "      <td>21.77681</td>\n",
       "      <td>24.89989</td>\n",
       "      <td>21.81792</td>\n",
       "      <td>24.84274</td>\n",
       "      <td>-2.707826</td>\n",
       "      <td>-0.540587</td>\n",
       "    </tr>\n",
       "    <tr>\n",
       "      <th>172732</th>\n",
       "      <td>2021-12-26 17:03:00.39</td>\n",
       "      <td>21.77681</td>\n",
       "      <td>25.16181</td>\n",
       "      <td>21.81792</td>\n",
       "      <td>25.08830</td>\n",
       "      <td>-2.542041</td>\n",
       "      <td>-0.556617</td>\n",
       "    </tr>\n",
       "    <tr>\n",
       "      <th>172733</th>\n",
       "      <td>2021-12-26 17:04:00.38</td>\n",
       "      <td>21.77681</td>\n",
       "      <td>25.28456</td>\n",
       "      <td>21.82613</td>\n",
       "      <td>25.23562</td>\n",
       "      <td>-2.77414</td>\n",
       "      <td>-0.539442</td>\n",
       "    </tr>\n",
       "    <tr>\n",
       "      <th>172734</th>\n",
       "      <td>2021-12-26 17:05:00.38</td>\n",
       "      <td>21.77681</td>\n",
       "      <td>25.35002</td>\n",
       "      <td>21.82613</td>\n",
       "      <td>25.30108</td>\n",
       "      <td>-2.597303</td>\n",
       "      <td>-0.532783</td>\n",
       "    </tr>\n",
       "    <tr>\n",
       "      <th>172735</th>\n",
       "      <td>2021-12-26 17:06:00.38</td>\n",
       "      <td>21.77681</td>\n",
       "      <td>25.36639</td>\n",
       "      <td>21.82613</td>\n",
       "      <td>25.33381</td>\n",
       "      <td>-2.542041</td>\n",
       "      <td>-0.554481</td>\n",
       "    </tr>\n",
       "    <tr>\n",
       "      <th>...</th>\n",
       "      <td>...</td>\n",
       "      <td>...</td>\n",
       "      <td>...</td>\n",
       "      <td>...</td>\n",
       "      <td>...</td>\n",
       "      <td>...</td>\n",
       "      <td>...</td>\n",
       "    </tr>\n",
       "    <tr>\n",
       "      <th>194486</th>\n",
       "      <td>2022-01-10 19:36:49.77</td>\n",
       "      <td>21.18683</td>\n",
       "      <td>28.10554</td>\n",
       "      <td>21.27722</td>\n",
       "      <td>28.04045</td>\n",
       "      <td>2.669143</td>\n",
       "      <td>-0.473258</td>\n",
       "    </tr>\n",
       "    <tr>\n",
       "      <th>194487</th>\n",
       "      <td>2022-01-10 19:37:49.77</td>\n",
       "      <td>21.17862</td>\n",
       "      <td>28.06472</td>\n",
       "      <td>21.26080</td>\n",
       "      <td>27.99963</td>\n",
       "      <td>2.685722</td>\n",
       "      <td>-0.482191</td>\n",
       "    </tr>\n",
       "    <tr>\n",
       "      <th>194488</th>\n",
       "      <td>2022-01-10 19:38:49.78</td>\n",
       "      <td>21.18683</td>\n",
       "      <td>28.03206</td>\n",
       "      <td>21.26901</td>\n",
       "      <td>27.97513</td>\n",
       "      <td>2.663617</td>\n",
       "      <td>-0.452139</td>\n",
       "    </tr>\n",
       "    <tr>\n",
       "      <th>194489</th>\n",
       "      <td>2022-01-10 19:39:49.78</td>\n",
       "      <td>21.19504</td>\n",
       "      <td>27.9994</td>\n",
       "      <td>21.28544</td>\n",
       "      <td>27.94247</td>\n",
       "      <td>2.613881</td>\n",
       "      <td>-0.481614</td>\n",
       "    </tr>\n",
       "    <tr>\n",
       "      <th>194490</th>\n",
       "      <td>2022-01-10 19:40:50.17</td>\n",
       "      <td>21.19504</td>\n",
       "      <td>27.97491</td>\n",
       "      <td>21.27722</td>\n",
       "      <td>27.91798</td>\n",
       "      <td>2.718879</td>\n",
       "      <td>-0.466939</td>\n",
       "    </tr>\n",
       "  </tbody>\n",
       "</table>\n",
       "<p>21760 rows × 7 columns</p>\n",
       "</div>"
      ],
      "text/plain": [
       "                     TIMESTAMP       T11       T21   DT1temp   DT2temp  \\\n",
       "172731  2021-12-26 17:02:00.38  21.77681  24.89989  21.81792  24.84274   \n",
       "172732  2021-12-26 17:03:00.39  21.77681  25.16181  21.81792  25.08830   \n",
       "172733  2021-12-26 17:04:00.38  21.77681  25.28456  21.82613  25.23562   \n",
       "172734  2021-12-26 17:05:00.38  21.77681  25.35002  21.82613  25.30108   \n",
       "172735  2021-12-26 17:06:00.38  21.77681  25.36639  21.82613  25.33381   \n",
       "...                        ...       ...       ...       ...       ...   \n",
       "194486  2022-01-10 19:36:49.77  21.18683  28.10554  21.27722  28.04045   \n",
       "194487  2022-01-10 19:37:49.77  21.17862  28.06472  21.26080  27.99963   \n",
       "194488  2022-01-10 19:38:49.78  21.18683  28.03206  21.26901  27.97513   \n",
       "194489  2022-01-10 19:39:49.78  21.19504   27.9994  21.28544  27.94247   \n",
       "194490  2022-01-10 19:40:50.17  21.19504  27.97491  21.27722  27.91798   \n",
       "\n",
       "             HF1       HF2  \n",
       "172731 -2.707826 -0.540587  \n",
       "172732 -2.542041 -0.556617  \n",
       "172733  -2.77414 -0.539442  \n",
       "172734 -2.597303 -0.532783  \n",
       "172735 -2.542041 -0.554481  \n",
       "...          ...       ...  \n",
       "194486  2.669143 -0.473258  \n",
       "194487  2.685722 -0.482191  \n",
       "194488  2.663617 -0.452139  \n",
       "194489  2.613881 -0.481614  \n",
       "194490  2.718879 -0.466939  \n",
       "\n",
       "[21760 rows x 7 columns]"
      ]
     },
     "execution_count": 85,
     "metadata": {},
     "output_type": "execute_result"
    }
   ],
   "source": [
    "wanted = df.iloc[first:(first+len(q_pred))]\n",
    "wanted['HF2'] = -q_pred\n",
    "wanted"
   ]
  },
  {
   "cell_type": "code",
   "execution_count": 94,
   "metadata": {},
   "outputs": [
    {
     "data": {
      "text/plain": [
       "array([10.08576965, 10.23220921, 10.25950241, ...,  8.7015295 ,\n",
       "        8.57286358,  8.77728939])"
      ]
     },
     "execution_count": 94,
     "metadata": {},
     "output_type": "execute_result"
    }
   ],
   "source": [
    "-q_pred"
   ]
  },
  {
   "cell_type": "code",
   "execution_count": 95,
   "metadata": {},
   "outputs": [],
   "source": [
    "file = open('../raw/' + name[0:len(name)-4] + '.dat', 'w')\n",
    "file.write(f'{name[0:len(name)-4] + \".dat\"} created from {source}\\n')\n",
    "wanted.to_csv(file, index=False)\n",
    "file.close()"
   ]
  },
  {
   "cell_type": "code",
   "execution_count": 1,
   "metadata": {},
   "outputs": [],
   "source": [
    "## preporuke!"
   ]
  },
  {
   "cell_type": "code",
   "execution_count": null,
   "metadata": {},
   "outputs": [],
   "source": []
  }
 ],
 "metadata": {
  "interpreter": {
   "hash": "916dbcbb3f70747c44a77c7bcd40155683ae19c65e1c03b4aa3499c5328201f1"
  },
  "kernelspec": {
   "display_name": "Python 3.8.10 64-bit",
   "language": "python",
   "name": "python3"
  },
  "language_info": {
   "codemirror_mode": {
    "name": "ipython",
    "version": 3
   },
   "file_extension": ".py",
   "mimetype": "text/x-python",
   "name": "python",
   "nbconvert_exporter": "python",
   "pygments_lexer": "ipython3",
   "version": "3.8.10"
  },
  "orig_nbformat": 4
 },
 "nbformat": 4,
 "nbformat_minor": 2
}
