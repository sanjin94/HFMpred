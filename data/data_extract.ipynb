{
 "cells": [
  {
   "cell_type": "code",
   "execution_count": 1,
   "metadata": {},
   "outputs": [],
   "source": [
    "import numpy as np\n",
    "from numpy.lib.index_tricks import index_exp\n",
    "import pandas as pd\n",
    "import matplotlib.pyplot as plt\n",
    "import csv"
   ]
  },
  {
   "cell_type": "code",
   "execution_count": 2,
   "metadata": {},
   "outputs": [],
   "source": [
    "# Finding index from raw data file TRSYS01_Public.dat\n",
    "class RawData_index:\n",
    "\n",
    "    def __init__(self, name, start, end):\n",
    "        self.name = name\n",
    "        self.start = start\n",
    "        self.end = end\n",
    "\n",
    "    # Initial dataframe to find indexes of first and last datapoint\n",
    "    def dfinit(self):\n",
    "        df = pd.read_csv('raw/' + self.name,\n",
    "                    skiprows=1, usecols=['TIMESTAMP'])\n",
    "\n",
    "        first = -1\n",
    "        last = -1\n",
    "        lt = len(self.start)\n",
    "\n",
    "        df = df.to_numpy()\n",
    "        for i in range(len(df)):\n",
    "            if str(df[i][0])[0:lt] == self.start:\n",
    "                first = i\n",
    "            if str(df[i][0])[0:lt] == self.end:\n",
    "                last = i\n",
    "\n",
    "        if (first == -1) or (last == -1):\n",
    "            print('ERROR! Timestamp does not work!')\n",
    "            return\n",
    "\n",
    "        return first, last\n",
    "\n",
    "    # finding index of columns\n",
    "    def cols(self):\n",
    "        df = pd.read_csv('raw/' + self.name, skiprows=1, low_memory=False)\n",
    "\n",
    "        ti1 = df.columns.get_loc('T11')\n",
    "        te1 = df.columns.get_loc('T21')\n",
    "        ti2 = df.columns.get_loc('DT1temp')\n",
    "        te2 = df.columns.get_loc('DT2temp')\n",
    "        hf1 = df.columns.get_loc('HF1')\n",
    "        hf2 = df.columns.get_loc('HF2')\n",
    "\n",
    "        return [ti1, te1, ti2, te2, hf1, hf2]\n",
    "\n",
    "# Extracting selected vectors from raw data file TRSYS01_Public.dat\n",
    "class RawData_series:\n",
    "\n",
    "    def __init__(self, name, f_ind, l_ind, columns):\n",
    "        self.name = name\n",
    "        self.f_ind = f_ind\n",
    "        self.l_ind = l_ind\n",
    "        self.columns = columns\n",
    "\n",
    "    # Extracting function and averaging for every \"ts_avg\" minutes\n",
    "    def ex_vect(self):\n",
    "\n",
    "        first = self.f_ind + 2\n",
    "        num_rows = self.l_ind - self.f_ind\n",
    "\n",
    "        x_val = []\n",
    "\n",
    "        for i in range(num_rows):\n",
    "            x_val.append(i)\n",
    "\n",
    "        x_val = np.array(x_val)\n",
    "\n",
    "        df = pd.read_csv('raw/' + self.name, usecols=self.columns, skiprows=first,\n",
    "                        nrows=num_rows, header=None)\n",
    "\n",
    "        for col in range(len(self.columns)):\n",
    "            globals()[f\"c{col}\"] = df.iloc[:,col].to_numpy()\n",
    "\n",
    "        return [c0, c1, c2, c3, c4*(-1), c5*(-1), x_val]"
   ]
  },
  {
   "cell_type": "code",
   "execution_count": 3,
   "metadata": {},
   "outputs": [],
   "source": [
    "def vectsave(ts, name):\n",
    "    delta_t = ts[0] - ts[1]\n",
    "    q = ts[4].copy()\n",
    "\n",
    "    heading = ['v1', 'v2']\n",
    "\n",
    "    with open('model_input/' + name + '.csv', 'w') as file:\n",
    "        write = csv.writer(file)\n",
    "        write.writerow(heading)\n",
    "        write.writerows([delta_t[i], q[i]] for i in range(len(q)))\n",
    "\n",
    "    return delta_t, q"
   ]
  },
  {
   "cell_type": "code",
   "execution_count": 4,
   "metadata": {},
   "outputs": [],
   "source": [
    "def vectsave2(ts, name):\n",
    "    tint = ts[0].copy()\n",
    "    text = ts[1].copy()\n",
    "    q = ts[4].copy()\n",
    "\n",
    "    heading = ['tint', 'text', 'q']\n",
    "\n",
    "    with open('model_input/' + name + '.csv', 'w') as file:\n",
    "        write = csv.writer(file)\n",
    "        write.writerow(heading)\n",
    "        write.writerows([tint[i], text[i], q[i],] for i in range(len(q)))\n",
    "\n",
    "    return tint, text, q\n"
   ]
  },
  {
   "cell_type": "code",
   "execution_count": 5,
   "metadata": {},
   "outputs": [
    {
     "name": "stdout",
     "output_type": "stream",
     "text": [
      "5893\n"
     ]
    }
   ],
   "source": [
    "file_name = 'measurement.dat'\n",
    "name = 'beton_prijelazno'\n",
    "\n",
    "start = '2022-03-10 10:40'\n",
    "end = '2022-03-14 12:55'\n",
    "calc_start = '2022-03-10 10:40'\n",
    "calc_end = '2022-03-14 12:55'\n",
    "\n",
    "avg_const = 1\n",
    "\n",
    "ind_o = RawData_index(file_name, start, end)\n",
    "first_ind, last_ind = ind_o.dfinit()\n",
    "first_calc, last_calc = ind_o.dfinit()\n",
    "first_calc = first_calc\n",
    "calc_rows = last_calc - first_calc\n",
    "columns = ind_o.cols()\n",
    "vect_o = RawData_series(file_name, first_ind, last_ind, columns)\n",
    "# List \"ts\" contains following vectors\n",
    "# T11, T21, DT1temp, DT2temp, HF1, HF2, TIMESTAMP\n",
    "ts = vect_o.ex_vect()\n",
    "print(len(ts[0]))\n"
   ]
  },
  {
   "cell_type": "code",
   "execution_count": 6,
   "metadata": {},
   "outputs": [
    {
     "data": {
      "text/plain": [
       "array([13.197207, 13.055876, 12.49125 , ..., 11.68332 , 11.62962 ,\n",
       "       11.5166  ])"
      ]
     },
     "execution_count": 6,
     "metadata": {},
     "output_type": "execute_result"
    }
   ],
   "source": [
    "v1, v2 = vectsave(ts, name)\n",
    "v1"
   ]
  },
  {
   "cell_type": "code",
   "execution_count": 7,
   "metadata": {},
   "outputs": [
    {
     "data": {
      "text/plain": [
       "[<matplotlib.lines.Line2D at 0x7f03bcc403a0>]"
      ]
     },
     "execution_count": 7,
     "metadata": {},
     "output_type": "execute_result"
    },
    {
     "data": {
      "image/png": "[encoded data removed]",
      "text/plain": [
       "<Figure size 432x288 with 1 Axes>"
      ]
     },
     "metadata": {
      "needs_background": "light"
     },
     "output_type": "display_data"
    }
   ],
   "source": [
    "plt.plot(v1)\n",
    "plt.plot(v2)"
   ]
  },
  {
   "cell_type": "code",
   "execution_count": 14,
   "metadata": {},
   "outputs": [
    {
     "data": {
      "text/plain": [
       "[<matplotlib.lines.Line2D at 0x7f3df807efd0>]"
      ]
     },
     "execution_count": 14,
     "metadata": {},
     "output_type": "execute_result"
    },
    {
     "data": {
      "image/png": "[encoded data removed]",
      "text/plain": [
       "<Figure size 432x288 with 1 Axes>"
      ]
     },
     "metadata": {
      "needs_background": "light"
     },
     "output_type": "display_data"
    }
   ],
   "source": [
    "tint, text, q = vectsave2(ts, name)\n",
    "plt.plot(tint)\n",
    "plt.plot(text)\n",
    "plt.plot(q)"
   ]
  },
  {
   "cell_type": "code",
   "execution_count": 10,
   "metadata": {},
   "outputs": [
    {
     "data": {
      "text/plain": [
       "array([[23.22222222, -5.00531874],\n",
       "       [23.77777778, -5.00238838],\n",
       "       [23.77777778, -5.00035782],\n",
       "       ...,\n",
       "       [22.11111111, -4.17228267],\n",
       "       [22.11111111, -4.17506037],\n",
       "       [23.22222222, -4.17886501]])"
      ]
     },
     "execution_count": 10,
     "metadata": {},
     "output_type": "execute_result"
    }
   ],
   "source": [
    "v2 = pd.read_csv('raw/v1.csv', sep=',').values\n",
    "v1 = pd.read_csv('raw/Zagreb2021.csv', sep=',').values\n",
    "v1 = 21 - v1\n",
    "vectors_zg = np.column_stack((v1, v2))\n",
    "vectors_zg"
   ]
  },
  {
   "cell_type": "code",
   "execution_count": 102,
   "metadata": {},
   "outputs": [],
   "source": [
    "heading = ['v1', 'v2']\n",
    "\n",
    "with open('model_input/vectors_zg.csv', 'w') as file:\n",
    "    write = csv.writer(file)\n",
    "    write.writerow(heading)\n",
    "    write.writerows(vectors_zg[i] for i in range(len(v1)))"
   ]
  },
  {
   "cell_type": "code",
   "execution_count": 11,
   "metadata": {},
   "outputs": [
    {
     "data": {
      "text/plain": [
       "6"
      ]
     },
     "execution_count": 11,
     "metadata": {},
     "output_type": "execute_result"
    }
   ],
   "source": [
    "import torch\n",
    "\n",
    "a = torch.tensor([1, 2, 3, 4, 5, 6])\n",
    "a = a.view(2, 1, 3)\n",
    "len(a.flatten())"
   ]
  },
  {
   "cell_type": "code",
   "execution_count": 12,
   "metadata": {},
   "outputs": [
    {
     "data": {
      "text/plain": [
       "True"
      ]
     },
     "execution_count": 12,
     "metadata": {},
     "output_type": "execute_result"
    }
   ],
   "source": [
    "a = np.array([1, 2, 3])\n",
    "b = np.array([4, 4, 3])\n",
    "c = a - b\n",
    "s1 = np.sum(c)\n",
    "s2 = np.sum(a) - np.sum(b)x\n",
    "\n",
    "s1 == s2"
   ]
  },
  {
   "cell_type": "code",
   "execution_count": 44,
   "metadata": {},
   "outputs": [
    {
     "data": {
      "text/plain": [
       "[<matplotlib.lines.Line2D at 0x7f75656b0910>]"
      ]
     },
     "execution_count": 44,
     "metadata": {},
     "output_type": "execute_result"
    },
    {
     "data": {
      "image/png": "[encoded data removed]",
      "text/plain": [
       "<Figure size 432x288 with 1 Axes>"
      ]
     },
     "metadata": {
      "needs_background": "light"
     },
     "output_type": "display_data"
    }
   ],
   "source": [
    "plt.plot(v2)"
   ]
  },
  {
   "cell_type": "code",
   "execution_count": null,
   "metadata": {},
   "outputs": [],
   "source": []
  }
 ],
 "metadata": {
  "interpreter": {
   "hash": "916dbcbb3f70747c44a77c7bcd40155683ae19c65e1c03b4aa3499c5328201f1"
  },
  "kernelspec": {
   "display_name": "Python 3.8.10 64-bit",
   "language": "python",
   "name": "python3"
  },
  "language_info": {
   "codemirror_mode": {
    "name": "ipython",
    "version": 3
   },
   "file_extension": ".py",
   "mimetype": "text/x-python",
   "name": "python",
   "nbconvert_exporter": "python",
   "pygments_lexer": "ipython3",
   "version": "3.8.10"
  },
  "orig_nbformat": 4
 },
 "nbformat": 4,
 "nbformat_minor": 2
}
